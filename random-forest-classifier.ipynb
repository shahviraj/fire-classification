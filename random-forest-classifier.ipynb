{
 "cells": [
  {
   "cell_type": "code",
   "execution_count": 2,
   "metadata": {
    "collapsed": true
   },
   "outputs": [],
   "source": [
    "from __future__ import print_function\n",
    "import numpy as np\n",
    "import scipy as sc\n",
    "import cv2 as cv2\n",
    "import matplotlib.pyplot as plt\n",
    "import scipy.io as scio\n",
    "import h5py\n",
    "from skimage.feature import hog\n",
    "from skimage import data, exposure\n",
    "from sklearn.ensemble import RandomForestClassifier, VotingClassifier\n",
    "from sklearn.metrics import accuracy_score\n",
    "from sklearn.model_selection import KFold\n",
    "from sklearn import svm\n",
    "from sklearn import datasets\n",
    "from sklearn.model_selection import train_test_split\n",
    "from sklearn.model_selection import GridSearchCV\n",
    "from sklearn.metrics import classification_report\n",
    "from sklearn.svm import SVC\n",
    "from sklearn.decomposition import MiniBatchDictionaryLearning\n",
    "from time import time\n",
    "from sklearn import tree\n",
    "from sklearn.ensemble import ExtraTreesClassifier\n",
    "from sklearn.ensemble import GradientBoostingClassifier\n",
    "from sklearn.ensemble import AdaBoostClassifier"
   ]
  },
  {
   "cell_type": "code",
   "execution_count": 4,
   "metadata": {},
   "outputs": [],
   "source": [
    "#Extract data\n",
    "comb_data = h5py.File('../Aditya_data/combustion_img_13.mat','r')"
   ]
  },
  {
   "cell_type": "code",
   "execution_count": 5,
   "metadata": {},
   "outputs": [],
   "source": [
    "X_train = comb_data['train_set_x'][()]\n",
    "y_train = comb_data['train_set_y'][()]\n",
    "y_train = np.ravel(y_train)\n",
    "X_test = comb_data['test_set_x'][()]\n",
    "y_test = comb_data['test_set_y'][()]\n",
    "y_test = np.ravel(y_test)\n",
    "X_valid = comb_data['valid_set_x'][()]\n",
    "y_valid = comb_data['valid_set_y'][()]\n",
    "y_valid = np.ravel(y_valid)"
   ]
  },
  {
   "cell_type": "code",
   "execution_count": 6,
   "metadata": {},
   "outputs": [
    {
     "data": {
      "text/plain": [
       "(54000,)"
      ]
     },
     "execution_count": 6,
     "metadata": {},
     "output_type": "execute_result"
    }
   ],
   "source": [
    "X_train_final = np.zeros([54000,1250])\n",
    "n=len(X_train_final[:,1])\n",
    "np.shape(y_train)"
   ]
  },
  {
   "cell_type": "code",
   "execution_count": 7,
   "metadata": {},
   "outputs": [
    {
     "name": "stderr",
     "output_type": "stream",
     "text": [
      "/local/viraj/venvs/tensorflow/lib/python2.7/site-packages/skimage/feature/_hog.py:119: skimage_deprecation: Default value of `block_norm`==`L1` is deprecated and will be changed to `L2-Hys` in v0.15\n",
      "  'be changed to `L2-Hys` in v0.15', skimage_deprecation)\n"
     ]
    }
   ],
   "source": [
    "#Feature extraction using Histogram of Gradients\n",
    "#Training data\n",
    "for i in range(0,n):\n",
    "    temp_image = X_train[:,i]\n",
    "    \n",
    "    temp_image = np.reshape(temp_image,[250,100])\n",
    "    temp_image = temp_image.T\n",
    "    temp_fd = hog(temp_image, orientations=5, pixels_per_cell=(10, 10),\n",
    "                    cells_per_block=(1, 1))\n",
    "    \n",
    "    X_train_final[i,:] = temp_fd"
   ]
  },
  {
   "cell_type": "code",
   "execution_count": 8,
   "metadata": {
    "collapsed": true
   },
   "outputs": [],
   "source": [
    "#Extract features of test data using Histogram of Gradients\n",
    "X_test_final = np.zeros([18000,1250])\n",
    "b=len(X_test_final[:,1])\n",
    "for i in range(0,b):\n",
    "    temp_image = X_test[:,i]\n",
    "    \n",
    "    temp_image = np.reshape(temp_image,[250,100])\n",
    "    temp_image = temp_image.T\n",
    "    temp_fd = hog(temp_image, orientations=5, pixels_per_cell=(10, 10),\n",
    "                    cells_per_block=(1, 1))\n",
    "    \n",
    "    X_test_final[i,:] = temp_fd"
   ]
  },
  {
   "cell_type": "code",
   "execution_count": 9,
   "metadata": {
    "collapsed": true
   },
   "outputs": [],
   "source": [
    "#Extract features of validation data using Histogram of Gradients\n",
    "X_valid_final = np.zeros([9000,1250])\n",
    "b=len(X_valid_final[:,1])\n",
    "for i in range(0,b):\n",
    "    temp_image = X_valid[:,i]\n",
    "    \n",
    "    temp_image = np.reshape(temp_image,[250,100])\n",
    "    temp_image = temp_image.T\n",
    "    temp_fd = hog(temp_image, orientations=5, pixels_per_cell=(10, 10),\n",
    "                    cells_per_block=(1, 1))\n",
    "    \n",
    "    X_valid_final[i,:] = temp_fd"
   ]
  },
  {
   "cell_type": "code",
   "execution_count": 10,
   "metadata": {},
   "outputs": [
    {
     "data": {
      "text/plain": [
       "(25000, 54000)"
      ]
     },
     "execution_count": 10,
     "metadata": {},
     "output_type": "execute_result"
    }
   ],
   "source": [
    "np.shape(X_train)"
   ]
  },
  {
   "cell_type": "code",
   "execution_count": 11,
   "metadata": {},
   "outputs": [
    {
     "name": "stdout",
     "output_type": "stream",
     "text": [
      "Learning the dictionary...\n",
      "done in 146.95s.\n"
     ]
    }
   ],
   "source": [
    "#Feature extraction using Dictionary Learning\n",
    "#Training data\n",
    "print('Learning the dictionary...')\n",
    "t0 = time()\n",
    "dico = MiniBatchDictionaryLearning(n_components=10, alpha=1, n_iter=100)\n",
    "X_train_dict = dico.fit_transform(X_train.T)\n",
    "np.shape(X_train_dict)\n",
    "dt = time() - t0\n",
    "print('done in %.2fs.' % dt)"
   ]
  },
  {
   "cell_type": "code",
   "execution_count": 12,
   "metadata": {},
   "outputs": [
    {
     "data": {
      "text/plain": [
       "(18000, 10)"
      ]
     },
     "execution_count": 12,
     "metadata": {},
     "output_type": "execute_result"
    }
   ],
   "source": [
    "#Express test data in terms of (Dictionary) learned features\n",
    "X_test_dict = dico.transform(X_test.T)\n",
    "np.shape(X_test_dict)"
   ]
  },
  {
   "cell_type": "code",
   "execution_count": 13,
   "metadata": {},
   "outputs": [
    {
     "data": {
      "text/plain": [
       "(9000, 10)"
      ]
     },
     "execution_count": 13,
     "metadata": {},
     "output_type": "execute_result"
    }
   ],
   "source": [
    "#Express validation data in terms of (Dictionary) learned features\n",
    "X_valid_dict = dico.transform(X_valid.T)\n",
    "np.shape(X_valid_dict)"
   ]
  },
  {
   "cell_type": "code",
   "execution_count": 14,
   "metadata": {},
   "outputs": [
    {
     "data": {
      "text/plain": [
       "RandomForestClassifier(bootstrap=True, class_weight=None, criterion='gini',\n",
       "            max_depth=4, max_features='auto', max_leaf_nodes=None,\n",
       "            min_impurity_decrease=0.0, min_impurity_split=None,\n",
       "            min_samples_leaf=1, min_samples_split=2,\n",
       "            min_weight_fraction_leaf=0.0, n_estimators=2, n_jobs=1,\n",
       "            oob_score=False, random_state=0, verbose=0, warm_start=False)"
      ]
     },
     "execution_count": 14,
     "metadata": {},
     "output_type": "execute_result"
    }
   ],
   "source": [
    "#Random forest classifier for HOG features # n_features = 1250\n",
    "num_features = \"auto\" #default option \"auto\" = sqrt(n_features); \"log2\" = log2(n_features); None = n_features \n",
    "clf = RandomForestClassifier(n_estimators=2, max_features=num_features, max_depth=4, random_state=0)\n",
    "clf.fit(X_train_final, y_train)\n",
    "\n",
    "#Random forest classifier for dictionary features # n_features = 10\n",
    "num_features_d = \"auto\" #default option \"auto\" = sqrt(n_features); \"log2\" = log2(n_features); None = n_features \n",
    "clfd = RandomForestClassifier(n_estimators=2, max_features=num_features_d, max_depth=4, random_state=0)\n",
    "clfd.fit(X_train_dict, y_train)"
   ]
  },
  {
   "cell_type": "code",
   "execution_count": 15,
   "metadata": {},
   "outputs": [
    {
     "name": "stdout",
     "output_type": "stream",
     "text": [
      "Accuracy of Random Forest Classifier using HOG features is... 0.956055555556\n"
     ]
    }
   ],
   "source": [
    "#Test classification accuracy using Random Forest Classifier for HOG features\n",
    "\n",
    "y_test_predict=clf.predict(X_test_final)\n",
    "acc = accuracy_score(y_test, y_test_predict)\n",
    "print('Accuracy of Random Forest Classifier using HOG features is...',acc)\n",
    "\n"
   ]
  },
  {
   "cell_type": "code",
   "execution_count": 16,
   "metadata": {},
   "outputs": [
    {
     "name": "stdout",
     "output_type": "stream",
     "text": [
      "Accuracy of Random Forest Classifier using Dictionary learned features is... 0.913388888889\n"
     ]
    }
   ],
   "source": [
    "#Test classification accuracy using Random Forest Classifier for dictionary features\n",
    "\n",
    "y_test_predictd=clfd.predict(X_test_dict)\n",
    "acc_d = accuracy_score(y_test, y_test_predictd)\n",
    "print('Accuracy of Random Forest Classifier using Dictionary learned features is...',acc_d)\n"
   ]
  },
  {
   "cell_type": "code",
   "execution_count": 17,
   "metadata": {},
   "outputs": [
    {
     "name": "stdout",
     "output_type": "stream",
     "text": [
      "Accuracy of Decision Tree Classifier using HOG features is... 0.980944444444\n",
      "Accuracy of Decision Tree Classifier using Dictionary learned features is... 0.980388888889\n"
     ]
    }
   ],
   "source": [
    "##Compare the performance to Decision Tree, Extra Trees, AdaBoost, Voting and Gradient Tree Boosting.\n",
    "\n",
    "#Decision Tree\n",
    "clf_dt = tree.DecisionTreeClassifier()\n",
    "clf_dt.fit(X_train_final, y_train)\n",
    "y_test_predict_dectree=clf_dt.predict(X_test_final)\n",
    "acc_dt = accuracy_score(y_test, y_test_predict_dectree)\n",
    "print('Accuracy of Decision Tree Classifier using HOG features is...',acc_dt)\n",
    "clf_dt_d = tree.DecisionTreeClassifier()\n",
    "clf_dt_d.fit(X_train_dict, y_train)\n",
    "y_test_predict_dectree_d=clf_dt_d.predict(X_test_dict)\n",
    "acc_dt_d = accuracy_score(y_test, y_test_predict_dectree_d)\n",
    "print('Accuracy of Decision Tree Classifier using Dictionary learned features is...',acc_dt_d)\n"
   ]
  },
  {
   "cell_type": "code",
   "execution_count": 18,
   "metadata": {},
   "outputs": [
    {
     "name": "stdout",
     "output_type": "stream",
     "text": [
      "Accuracy of Extra Trees Classifier using HOG features is... 0.998277777778\n",
      "Accuracy of Extra Trees Classifier using Dictionary learned features is... 0.993611111111\n"
     ]
    }
   ],
   "source": [
    "#Extra Trees\n",
    "extclf= ExtraTreesClassifier(n_estimators=250, random_state=0)\n",
    "extclf.fit(X_train_final, y_train)\n",
    "y_test_predict_exttree=extclf.predict(X_test_final)\n",
    "acc_et = accuracy_score(y_test, y_test_predict_exttree)\n",
    "print('Accuracy of Extra Trees Classifier using HOG features is...',acc_et)\n",
    "extclf_d= ExtraTreesClassifier(n_estimators=10, random_state=0)\n",
    "extclf_d.fit(X_train_dict, y_train)\n",
    "y_test_predict_exttree_d=extclf_d.predict(X_test_dict)\n",
    "acc_et_d = accuracy_score(y_test, y_test_predict_exttree_d)\n",
    "print('Accuracy of Extra Trees Classifier using Dictionary learned features is...',acc_et_d)"
   ]
  },
  {
   "cell_type": "code",
   "execution_count": 19,
   "metadata": {},
   "outputs": [
    {
     "name": "stdout",
     "output_type": "stream",
     "text": [
      "Accuracy of Gradient Boosting Classifier using HOG features is... 0.997777777778\n",
      "Accuracy of Gradient Boosting Classifier using Dictionary learned features is... 0.910722222222\n"
     ]
    }
   ],
   "source": [
    "#Gradient Boosting Classifier\n",
    "clfgb = GradientBoostingClassifier(n_estimators=100, learning_rate=1.0, max_depth=1, random_state=0)\n",
    "clfgb.fit(X_train_final, y_train)\n",
    "y_test_predict_gradboost=clfgb.predict(X_test_final)\n",
    "acc_gb = accuracy_score(y_test, y_test_predict_gradboost)\n",
    "print('Accuracy of Gradient Boosting Classifier using HOG features is...',acc_gb)\n",
    "clfgb_d = GradientBoostingClassifier(n_estimators=10, learning_rate=1.0, max_depth=1, random_state=0)\n",
    "clfgb_d.fit(X_train_dict, y_train)\n",
    "y_test_predict_gradboostd=clfgb_d.predict(X_test_dict)\n",
    "acc_gb_d = accuracy_score(y_test, y_test_predict_gradboostd)\n",
    "print('Accuracy of Gradient Boosting Classifier using Dictionary learned features is...',acc_gb_d)"
   ]
  },
  {
   "cell_type": "code",
   "execution_count": 20,
   "metadata": {},
   "outputs": [
    {
     "name": "stdout",
     "output_type": "stream",
     "text": [
      "Accuracy of AdaBoost Classifier using HOG features is... 0.997777777778\n",
      "Accuracy of AdaBoost Classifier using Dictionary learned features is... 0.910722222222\n"
     ]
    }
   ],
   "source": [
    "#AdaBoost Classifier\n",
    "clfab = AdaBoostClassifier()\n",
    "clfab.fit(X_train_final, y_train)\n",
    "y_test_predict_adboost=clfgb.predict(X_test_final)\n",
    "acc_ab = accuracy_score(y_test, y_test_predict_adboost)\n",
    "print('Accuracy of AdaBoost Classifier using HOG features is...',acc_ab)\n",
    "clfab_d = AdaBoostClassifier()\n",
    "clfab_d.fit(X_train_dict, y_train)\n",
    "y_test_predict_adboostd=clfgb_d.predict(X_test_dict)\n",
    "acc_ab_d = accuracy_score(y_test, y_test_predict_adboostd)\n",
    "print('Accuracy of AdaBoost Classifier using Dictionary learned features is...',acc_ab_d)"
   ]
  },
  {
   "cell_type": "code",
   "execution_count": 21,
   "metadata": {},
   "outputs": [
    {
     "name": "stdout",
     "output_type": "stream",
     "text": [
      "Accuracy of Voting Classifier using HOG features is... 0.997166666667\n",
      "Accuracy of Voting Classifier using Dictionary learned features is... 0.990833333333\n"
     ]
    }
   ],
   "source": [
    "#Voting Classifier\n",
    "clfrf = RandomForestClassifier(random_state=1)\n",
    "clfvote = VotingClassifier(estimators=[('rf', clfrf)], voting='hard')\n",
    "clfvote.fit(X_train_final, y_train)\n",
    "y_test_predict_vote=clfvote.predict(X_test_final)\n",
    "acc_v = accuracy_score(y_test, y_test_predict_vote)\n",
    "print('Accuracy of Voting Classifier using HOG features is...',acc_v)\n",
    "clfrfd = RandomForestClassifier(random_state=1)\n",
    "clfvoted = VotingClassifier(estimators=[('rf', clfrfd)], voting='hard')\n",
    "clfvoted.fit(X_train_dict, y_train)\n",
    "y_test_predict_voted=clfvoted.predict(X_test_dict)\n",
    "acc_vd = accuracy_score(y_test, y_test_predict_voted)\n",
    "print('Accuracy of Voting Classifier using Dictionary learned features is...',acc_vd)"
   ]
  },
  {
   "cell_type": "code",
   "execution_count": 22,
   "metadata": {},
   "outputs": [
    {
     "name": "stdout",
     "output_type": "stream",
     "text": [
      "Merging original training and validation data for HOG features...\n",
      "Merging original training and validation data for Dictionary learned features...\n"
     ]
    }
   ],
   "source": [
    "#KFold Cross validation\n",
    "\n",
    "print('Merging original training and validation data for HOG features...')\n",
    "X_full = np.append(X_train_final,X_valid_final,axis=0)\n",
    "\n",
    "print('Merging original training and validation data for Dictionary learned features...')\n",
    "X_full_d = np.append(X_train_dict,X_valid_dict,axis=0)\n",
    "\n",
    "y_full = np.append(y_train,y_valid)\n",
    "\n",
    "kf = KFold(n_splits=2)  #n_splits can be increased, but will result in higher running time"
   ]
  },
  {
   "cell_type": "code",
   "execution_count": 23,
   "metadata": {},
   "outputs": [
    {
     "data": {
      "text/plain": [
       "(63000, 10)"
      ]
     },
     "execution_count": 23,
     "metadata": {},
     "output_type": "execute_result"
    }
   ],
   "source": [
    "np.shape(X_full_d)"
   ]
  },
  {
   "cell_type": "code",
   "execution_count": 24,
   "metadata": {},
   "outputs": [
    {
     "name": "stdout",
     "output_type": "stream",
     "text": [
      "TRAIN: [27000 27001 27002 ..., 53997 53998 53999] TEST: [    0     1     2 ..., 26997 26998 26999]\n",
      "# Tuning hyper-parameters for precision\n",
      "\n",
      "Best parameters set found on development set, using HOG features:\n",
      "\n",
      "{'max_features': 30, 'n_estimators': 3, 'max_depth': 2}\n",
      "\n",
      "Grid scores on development set, using HOG features:\n",
      "\n",
      "0.877 (+/-0.167) for {'max_features': 10, 'n_estimators': 2, 'max_depth': 2}\n",
      "0.924 (+/-0.179) for {'max_features': 10, 'n_estimators': 3, 'max_depth': 2}\n",
      "0.915 (+/-0.183) for {'max_features': 30, 'n_estimators': 2, 'max_depth': 2}\n",
      "0.924 (+/-0.192) for {'max_features': 30, 'n_estimators': 3, 'max_depth': 2}\n",
      "0.907 (+/-0.172) for {'max_features': 10, 'n_estimators': 2, 'max_depth': 4}\n",
      "0.913 (+/-0.175) for {'max_features': 10, 'n_estimators': 3, 'max_depth': 4}\n",
      "0.917 (+/-0.187) for {'max_features': 30, 'n_estimators': 2, 'max_depth': 4}\n",
      "0.922 (+/-0.192) for {'max_features': 30, 'n_estimators': 3, 'max_depth': 4}\n",
      "\n",
      "Detailed classification report:\n",
      "\n",
      "The model is trained on the full development set, using HOG features.\n",
      "The scores are computed on the full evaluation set, using HOG features.\n",
      "\n",
      "             precision    recall  f1-score   support\n",
      "\n",
      "          0       0.99      0.81      0.89     15000\n",
      "          1       0.81      0.99      0.89     12000\n",
      "\n",
      "avg / total       0.91      0.89      0.89     27000\n",
      "\n",
      "\n",
      "# Tuning hyper-parameters for recall\n",
      "\n",
      "Best parameters set found on development set, using HOG features:\n",
      "\n",
      "{'max_features': 10, 'n_estimators': 3, 'max_depth': 4}\n",
      "\n",
      "Grid scores on development set, using HOG features:\n",
      "\n",
      "0.882 (+/-0.163) for {'max_features': 10, 'n_estimators': 2, 'max_depth': 2}\n",
      "0.843 (+/-0.227) for {'max_features': 10, 'n_estimators': 3, 'max_depth': 2}\n",
      "0.864 (+/-0.192) for {'max_features': 30, 'n_estimators': 2, 'max_depth': 2}\n",
      "0.882 (+/-0.257) for {'max_features': 30, 'n_estimators': 3, 'max_depth': 2}\n",
      "0.879 (+/-0.240) for {'max_features': 10, 'n_estimators': 2, 'max_depth': 4}\n",
      "0.899 (+/-0.252) for {'max_features': 10, 'n_estimators': 3, 'max_depth': 4}\n",
      "0.885 (+/-0.256) for {'max_features': 30, 'n_estimators': 2, 'max_depth': 4}\n",
      "0.896 (+/-0.273) for {'max_features': 30, 'n_estimators': 3, 'max_depth': 4}\n",
      "\n",
      "Detailed classification report:\n",
      "\n",
      "The model is trained on the full development set, using HOG features.\n",
      "The scores are computed on the full evaluation set, using HOG features.\n",
      "\n",
      "             precision    recall  f1-score   support\n",
      "\n",
      "          0       0.96      0.63      0.76     15000\n",
      "          1       0.67      0.97      0.79     12000\n",
      "\n",
      "avg / total       0.83      0.78      0.77     27000\n",
      "\n",
      "\n",
      "# Tuning hyper-parameters for precision\n",
      "\n",
      "Best parameters set found on development set, using Dictionary learned features:\n",
      "\n",
      "{'max_features': 10, 'n_estimators': 2, 'max_depth': 4}\n",
      "\n",
      "Grid scores on development set, using Dictionary learned features:\n",
      "\n",
      "0.805 (+/-0.059) for {'max_features': 3, 'n_estimators': 2, 'max_depth': 2}\n",
      "0.748 (+/-0.148) for {'max_features': 3, 'n_estimators': 3, 'max_depth': 2}\n",
      "0.793 (+/-0.174) for {'max_features': 10, 'n_estimators': 2, 'max_depth': 2}\n",
      "0.840 (+/-0.167) for {'max_features': 10, 'n_estimators': 3, 'max_depth': 2}\n",
      "0.867 (+/-0.128) for {'max_features': 3, 'n_estimators': 2, 'max_depth': 4}\n",
      "0.834 (+/-0.291) for {'max_features': 3, 'n_estimators': 3, 'max_depth': 4}\n",
      "0.889 (+/-0.166) for {'max_features': 10, 'n_estimators': 2, 'max_depth': 4}\n",
      "0.880 (+/-0.159) for {'max_features': 10, 'n_estimators': 3, 'max_depth': 4}\n",
      "\n",
      "Detailed classification report:\n",
      "\n",
      "The model is trained on the full development set, using Dictionary learned features.\n",
      "The scores are computed on the full evaluation set, using Dictionary learned features.\n",
      "\n",
      "             precision    recall  f1-score   support\n",
      "\n",
      "          0       0.91      0.92      0.92     15000\n",
      "          1       0.90      0.89      0.89     12000\n",
      "\n",
      "avg / total       0.91      0.91      0.91     27000\n",
      "\n",
      "\n",
      "# Tuning hyper-parameters for recall\n",
      "\n",
      "Best parameters set found on development set, using Dictionary learned features:\n",
      "\n",
      "{'max_features': 10, 'n_estimators': 2, 'max_depth': 4}\n",
      "\n",
      "Grid scores on development set, using Dictionary learned features:\n",
      "\n",
      "0.754 (+/-0.120) for {'max_features': 3, 'n_estimators': 2, 'max_depth': 2}\n",
      "0.747 (+/-0.161) for {'max_features': 3, 'n_estimators': 3, 'max_depth': 2}\n",
      "0.799 (+/-0.235) for {'max_features': 10, 'n_estimators': 2, 'max_depth': 2}\n",
      "0.729 (+/-0.121) for {'max_features': 10, 'n_estimators': 3, 'max_depth': 2}\n",
      "0.830 (+/-0.198) for {'max_features': 3, 'n_estimators': 2, 'max_depth': 4}\n",
      "0.862 (+/-0.199) for {'max_features': 3, 'n_estimators': 3, 'max_depth': 4}\n",
      "0.869 (+/-0.243) for {'max_features': 10, 'n_estimators': 2, 'max_depth': 4}\n",
      "0.846 (+/-0.222) for {'max_features': 10, 'n_estimators': 3, 'max_depth': 4}\n",
      "\n",
      "Detailed classification report:\n",
      "\n",
      "The model is trained on the full development set, using Dictionary learned features.\n",
      "The scores are computed on the full evaluation set, using Dictionary learned features.\n",
      "\n",
      "             precision    recall  f1-score   support\n",
      "\n",
      "          0       0.91      0.92      0.92     15000\n",
      "          1       0.90      0.89      0.89     12000\n",
      "\n",
      "avg / total       0.91      0.91      0.91     27000\n",
      "\n",
      "\n",
      "TRAIN: [    0     1     2 ..., 26997 26998 26999] TEST: [27000 27001 27002 ..., 53997 53998 53999]\n",
      "# Tuning hyper-parameters for precision\n",
      "\n",
      "Best parameters set found on development set, using HOG features:\n",
      "\n",
      "{'max_features': 30, 'n_estimators': 2, 'max_depth': 4}\n",
      "\n",
      "Grid scores on development set, using HOG features:\n",
      "\n",
      "0.763 (+/-0.342) for {'max_features': 10, 'n_estimators': 2, 'max_depth': 2}\n",
      "0.865 (+/-0.140) for {'max_features': 10, 'n_estimators': 3, 'max_depth': 2}\n",
      "0.667 (+/-0.516) for {'max_features': 30, 'n_estimators': 2, 'max_depth': 2}\n",
      "0.872 (+/-0.147) for {'max_features': 30, 'n_estimators': 3, 'max_depth': 2}\n",
      "0.862 (+/-0.207) for {'max_features': 10, 'n_estimators': 2, 'max_depth': 4}\n",
      "0.894 (+/-0.172) for {'max_features': 10, 'n_estimators': 3, 'max_depth': 4}\n",
      "0.906 (+/-0.173) for {'max_features': 30, 'n_estimators': 2, 'max_depth': 4}\n",
      "0.897 (+/-0.174) for {'max_features': 30, 'n_estimators': 3, 'max_depth': 4}\n",
      "\n",
      "Detailed classification report:\n",
      "\n",
      "The model is trained on the full development set, using HOG features.\n",
      "The scores are computed on the full evaluation set, using HOG features.\n",
      "\n",
      "             precision    recall  f1-score   support\n",
      "\n",
      "          0       0.90      0.93      0.92     15000\n",
      "          1       0.91      0.87      0.89     12000\n",
      "\n",
      "avg / total       0.91      0.91      0.91     27000\n",
      "\n",
      "\n",
      "# Tuning hyper-parameters for recall\n",
      "\n",
      "Best parameters set found on development set, using HOG features:\n",
      "\n",
      "{'max_features': 30, 'n_estimators': 2, 'max_depth': 4}\n",
      "\n",
      "Grid scores on development set, using HOG features:\n",
      "\n",
      "0.772 (+/-0.403) for {'max_features': 10, 'n_estimators': 2, 'max_depth': 2}\n",
      "0.856 (+/-0.236) for {'max_features': 10, 'n_estimators': 3, 'max_depth': 2}\n",
      "0.698 (+/-0.383) for {'max_features': 30, 'n_estimators': 2, 'max_depth': 2}\n",
      "0.814 (+/-0.221) for {'max_features': 30, 'n_estimators': 3, 'max_depth': 2}\n",
      "0.815 (+/-0.258) for {'max_features': 10, 'n_estimators': 2, 'max_depth': 4}\n",
      "0.864 (+/-0.238) for {'max_features': 10, 'n_estimators': 3, 'max_depth': 4}\n",
      "0.873 (+/-0.242) for {'max_features': 30, 'n_estimators': 2, 'max_depth': 4}\n",
      "0.862 (+/-0.242) for {'max_features': 30, 'n_estimators': 3, 'max_depth': 4}\n",
      "\n",
      "Detailed classification report:\n",
      "\n",
      "The model is trained on the full development set, using HOG features.\n",
      "The scores are computed on the full evaluation set, using HOG features.\n",
      "\n",
      "             precision    recall  f1-score   support\n",
      "\n",
      "          0       0.93      0.96      0.95     15000\n",
      "          1       0.95      0.91      0.93     12000\n",
      "\n",
      "avg / total       0.94      0.94      0.94     27000\n",
      "\n",
      "\n",
      "# Tuning hyper-parameters for precision\n",
      "\n",
      "Best parameters set found on development set, using Dictionary learned features:\n",
      "\n",
      "{'max_features': 3, 'n_estimators': 2, 'max_depth': 4}\n",
      "\n",
      "Grid scores on development set, using Dictionary learned features:\n",
      "\n",
      "0.838 (+/-0.122) for {'max_features': 3, 'n_estimators': 2, 'max_depth': 2}\n",
      "0.832 (+/-0.249) for {'max_features': 3, 'n_estimators': 3, 'max_depth': 2}\n",
      "0.837 (+/-0.128) for {'max_features': 10, 'n_estimators': 2, 'max_depth': 2}\n",
      "0.833 (+/-0.123) for {'max_features': 10, 'n_estimators': 3, 'max_depth': 2}\n",
      "0.878 (+/-0.141) for {'max_features': 3, 'n_estimators': 2, 'max_depth': 4}\n",
      "0.876 (+/-0.151) for {'max_features': 3, 'n_estimators': 3, 'max_depth': 4}\n",
      "0.875 (+/-0.163) for {'max_features': 10, 'n_estimators': 2, 'max_depth': 4}\n",
      "0.875 (+/-0.156) for {'max_features': 10, 'n_estimators': 3, 'max_depth': 4}\n",
      "\n",
      "Detailed classification report:\n",
      "\n",
      "The model is trained on the full development set, using Dictionary learned features.\n",
      "The scores are computed on the full evaluation set, using Dictionary learned features.\n",
      "\n",
      "             precision    recall  f1-score   support\n",
      "\n",
      "          0       0.65      0.29      0.40     15000\n",
      "          1       0.48      0.81      0.60     12000\n",
      "\n",
      "avg / total       0.57      0.52      0.49     27000\n",
      "\n",
      "\n",
      "# Tuning hyper-parameters for recall\n",
      "\n"
     ]
    },
    {
     "name": "stdout",
     "output_type": "stream",
     "text": [
      "Best parameters set found on development set, using Dictionary learned features:\n",
      "\n",
      "{'max_features': 3, 'n_estimators': 3, 'max_depth': 4}\n",
      "\n",
      "Grid scores on development set, using Dictionary learned features:\n",
      "\n",
      "0.834 (+/-0.180) for {'max_features': 3, 'n_estimators': 2, 'max_depth': 2}\n",
      "0.803 (+/-0.223) for {'max_features': 3, 'n_estimators': 3, 'max_depth': 2}\n",
      "0.810 (+/-0.124) for {'max_features': 10, 'n_estimators': 2, 'max_depth': 2}\n",
      "0.815 (+/-0.132) for {'max_features': 10, 'n_estimators': 3, 'max_depth': 2}\n",
      "0.829 (+/-0.174) for {'max_features': 3, 'n_estimators': 2, 'max_depth': 4}\n",
      "0.864 (+/-0.230) for {'max_features': 3, 'n_estimators': 3, 'max_depth': 4}\n",
      "0.841 (+/-0.207) for {'max_features': 10, 'n_estimators': 2, 'max_depth': 4}\n",
      "0.852 (+/-0.217) for {'max_features': 10, 'n_estimators': 3, 'max_depth': 4}\n",
      "\n",
      "Detailed classification report:\n",
      "\n",
      "The model is trained on the full development set, using Dictionary learned features.\n",
      "The scores are computed on the full evaluation set, using Dictionary learned features.\n",
      "\n",
      "             precision    recall  f1-score   support\n",
      "\n",
      "          0       0.76      0.28      0.41     15000\n",
      "          1       0.50      0.89      0.64     12000\n",
      "\n",
      "avg / total       0.64      0.55      0.51     27000\n",
      "\n",
      "\n"
     ]
    }
   ],
   "source": [
    "#Grid search on K=2 fold cross validation dataset\n",
    "for train_index, test_index in kf.split(X_train_final):\n",
    "    \n",
    "    #Generate new cross-validation dataset\n",
    "    print(\"TRAIN:\", train_index, \"TEST:\", test_index)\n",
    "    #reduced dataset with HOG features\n",
    "    X_train_gs, X_test_gs = X_full[train_index], X_full[test_index]\n",
    "    #reduced dataset with Dictionary learned features\n",
    "    X_train_gs_d, X_test_gs_d = X_full_d[train_index], X_full_d[test_index]    \n",
    "    y_train_gs, y_test_gs = y_full[train_index], y_full[test_index]\n",
    "    \n",
    "    #Get optimal hyper-parameters for this CV dataset\n",
    "    tuned_parameters = [{\"n_estimators\": [2, 3], \"max_depth\": [2, 4], \"max_features\": [10, 30]}] #add max_features also\n",
    "    scores = ['precision', 'recall']\n",
    "    for score in scores:\n",
    "        print(\"# Tuning hyper-parameters for %s\" % score)\n",
    "        print()\n",
    "\n",
    "        clf_gs = GridSearchCV(RandomForestClassifier(),# this handle can be changed for any other classifier\n",
    "                              tuned_parameters,  scoring='%s_macro' % score)\n",
    "        clf_gs.fit(X_train_gs, np.ravel(y_train_gs))\n",
    "\n",
    "        #HOG features\n",
    "        print(\"Best parameters set found on development set, using HOG features:\")\n",
    "        print()\n",
    "        print(clf_gs.best_params_)\n",
    "        print()\n",
    "        print(\"Grid scores on development set, using HOG features:\")\n",
    "        print()\n",
    "        means = clf_gs.cv_results_['mean_test_score']\n",
    "        stds = clf_gs.cv_results_['std_test_score']\n",
    "        for mean, std, params in zip(means, stds, clf_gs.cv_results_['params']):\n",
    "            print(\"%0.3f (+/-%0.03f) for %r\"\n",
    "                  % (mean, std * 2, params))\n",
    "        print()\n",
    "\n",
    "        print(\"Detailed classification report:\")\n",
    "        print()\n",
    "        print(\"The model is trained on the full development set, using HOG features.\")\n",
    "        print(\"The scores are computed on the full evaluation set, using HOG features.\")\n",
    "        print()\n",
    "        y_true, y_pred = y_test_gs, clf_gs.predict(X_test_gs)\n",
    "        print(classification_report(y_true, y_pred))\n",
    "        print()\n",
    "    \n",
    "        \n",
    "        \n",
    "    #Get optimal hyper-parameters for this CV dataset\n",
    "    tuned_parameters = [{\"n_estimators\": [2, 3], \"max_depth\": [2, 4], \"max_features\": [3, 10]}] #add max_features also\n",
    "    scores = ['precision', 'recall']\n",
    "    for score in scores:\n",
    "        print(\"# Tuning hyper-parameters for %s\" % score)\n",
    "        print()\n",
    "\n",
    "   \n",
    "        #Dictionary learned features\n",
    "        clf_gs_d = GridSearchCV(RandomForestClassifier(), tuned_parameters,  scoring='%s_macro' % score)\n",
    "        clf_gs_d.fit(X_train_gs_d, y_train_gs)\n",
    "        print(\"Best parameters set found on development set, using Dictionary learned features:\")\n",
    "        print()\n",
    "        print(clf_gs_d.best_params_)\n",
    "        print()\n",
    "        print(\"Grid scores on development set, using Dictionary learned features:\")\n",
    "        print()\n",
    "        means = clf_gs_d.cv_results_['mean_test_score']\n",
    "        stds = clf_gs_d.cv_results_['std_test_score']\n",
    "        for mean, std, params in zip(means, stds, clf_gs_d.cv_results_['params']):\n",
    "            print(\"%0.3f (+/-%0.03f) for %r\"\n",
    "                  % (mean, std * 2, params))\n",
    "        print()\n",
    "\n",
    "        print(\"Detailed classification report:\")\n",
    "        print()\n",
    "        print(\"The model is trained on the full development set, using Dictionary learned features.\")\n",
    "        print(\"The scores are computed on the full evaluation set, using Dictionary learned features.\")\n",
    "        print()\n",
    "        y_true_d, y_pred_d = y_test_gs, clf_gs_d.predict(X_test_gs_d)\n",
    "        print(classification_report(y_true_d, y_pred_d))\n",
    "        print()\n",
    "            "
   ]
  },
  {
   "cell_type": "code",
   "execution_count": null,
   "metadata": {
    "collapsed": true
   },
   "outputs": [],
   "source": []
  }
 ],
 "metadata": {
  "kernelspec": {
   "display_name": "Python 2",
   "language": "python",
   "name": "python2"
  },
  "language_info": {
   "codemirror_mode": {
    "name": "ipython",
    "version": 2
   },
   "file_extension": ".py",
   "mimetype": "text/x-python",
   "name": "python",
   "nbconvert_exporter": "python",
   "pygments_lexer": "ipython2",
   "version": "2.7.5"
  }
 },
 "nbformat": 4,
 "nbformat_minor": 2
}
